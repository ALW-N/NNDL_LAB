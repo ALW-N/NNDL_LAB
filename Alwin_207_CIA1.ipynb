{
  "nbformat": 4,
  "nbformat_minor": 0,
  "metadata": {
    "colab": {
      "provenance": []
    },
    "kernelspec": {
      "name": "python3",
      "display_name": "Python 3"
    },
    "language_info": {
      "name": "python"
    }
  },
  "cells": [
    {
      "cell_type": "markdown",
      "source": [
        "# Question 1: XOR Gate Classification\n"
      ],
      "metadata": {
        "id": "St9Krkw61lq3"
      }
    },
    {
      "cell_type": "code",
      "execution_count": 2,
      "metadata": {
        "id": "VwMbYzbc0l42"
      },
      "outputs": [],
      "source": [
        "import numpy as np\n",
        "\n",
        "# XOR gate input\n",
        "X = np.array([[0, 0], [0, 1], [1, 0], [1, 1]])\n",
        "\n",
        "# XOR gate output\n",
        "y = np.array([0, 1, 1, 0])\n"
      ]
    },
    {
      "cell_type": "code",
      "source": [
        "class MCPNeuron:\n",
        "    def __init__(self, weights, bias, threshold):\n",
        "        self.weights = weights\n",
        "        self.bias = bias\n",
        "        self.threshold = threshold\n",
        "\n",
        "    def predict(self, inputs):\n",
        "        total_input = np.dot(self.weights, inputs) + self.bias\n",
        "        return 1 if total_input >= self.threshold else 0\n",
        "\n",
        "# Initialize weights and bias\n",
        "weights = np.array([1, 1])\n",
        "bias = -1.5\n",
        "threshold = 0.5\n",
        "\n",
        "# Create the perceptron model\n",
        "mcp_neuron = MCPNeuron(weights, bias, threshold)\n",
        "\n",
        "# Predict XOR outputs\n",
        "for x in X:\n",
        "    output = mcp_neuron.predict(x)\n",
        "    print(f\"Input: {x}, Predicted Output: {output}\")\n"
      ],
      "metadata": {
        "colab": {
          "base_uri": "https://localhost:8080/"
        },
        "id": "ySkjXcfT3AMb",
        "outputId": "ffc42cd4-4fce-4d73-f272-cda6ce1c170d"
      },
      "execution_count": 6,
      "outputs": [
        {
          "output_type": "stream",
          "name": "stdout",
          "text": [
            "Input: [0 0], Predicted Output: 0\n",
            "Input: [0 1], Predicted Output: 0\n",
            "Input: [1 0], Predicted Output: 0\n",
            "Input: [1 1], Predicted Output: 1\n"
          ]
        }
      ]
    },
    {
      "cell_type": "code",
      "source": [
        "class MCPNeuron:\n",
        "    def __init__(self, weights, bias, threshold):\n",
        "        self.weights = weights\n",
        "        self.bias = bias\n",
        "        self.threshold = threshold\n",
        "\n",
        "    def predict(self, inputs):\n",
        "        total_input = np.dot(self.weights, inputs) + self.bias\n",
        "        return 1 if total_input >= self.threshold else 0\n",
        "\n",
        "# Initialize weights and bias\n",
        "weights = np.array([1, 1])\n",
        "bias = -1.5  # chosen to separate the inputs\n",
        "threshold = 0.5\n",
        "\n",
        "# Create the perceptron model\n",
        "mcp_neuron = MCPNeuron(weights, bias, threshold)\n",
        "\n",
        "# Predict XOR outputs\n",
        "for x in X:\n",
        "    output = mcp_neuron.predict(x)\n",
        "    print(f\"Input: {x}, Predicted Output: {output}\")\n"
      ],
      "metadata": {
        "colab": {
          "base_uri": "https://localhost:8080/"
        },
        "id": "7jLtJfQP3kIQ",
        "outputId": "e01589c7-3aa0-40c6-c017-b241328bd22b"
      },
      "execution_count": 8,
      "outputs": [
        {
          "output_type": "stream",
          "name": "stdout",
          "text": [
            "Input: [0 0], Predicted Output: 0\n",
            "Input: [0 1], Predicted Output: 0\n",
            "Input: [1 0], Predicted Output: 0\n",
            "Input: [1 1], Predicted Output: 1\n"
          ]
        }
      ]
    },
    {
      "cell_type": "code",
      "source": [
        "from sklearn.neural_network import MLPClassifier\n",
        "\n",
        "X = np.array([[0, 0], [0, 1], [1, 0], [1, 1]])\n",
        "y = np.array([0, 1, 1, 0])\n",
        "\n",
        "# Initialize MLP with 2 hidden neurons\n",
        "mlp = MLPClassifier(hidden_layer_sizes=(2,), activation='tanh', solver='adam', max_iter=10000)\n",
        "mlp.fit(X, y)\n",
        "\n",
        "predictions = mlp.predict(X)\n",
        "print(f\"Predicted Output: {predictions}\")\n"
      ],
      "metadata": {
        "colab": {
          "base_uri": "https://localhost:8080/"
        },
        "id": "Lg5sV2aV3Khm",
        "outputId": "4ddb839c-7cc4-4a04-9c38-47e23ab06041"
      },
      "execution_count": 9,
      "outputs": [
        {
          "output_type": "stream",
          "name": "stdout",
          "text": [
            "Predicted Output: [1 0 1 0]\n"
          ]
        }
      ]
    },
    {
      "cell_type": "markdown",
      "source": [
        "\n",
        "Part 1: XOR Gate Classification with MCP Neuron\n",
        "\n",
        "1. Import Libraries:\n",
        "\n",
        "2. XOR Gate Dataset:\n",
        "  - X: Input data for an XOR gate (two binary inputs).\n",
        "  - y: Corresponding output data for the XOR gate.\n",
        "\n",
        " 3. MCPNeuron Class:\n",
        "   - Defines a simple perceptron (MCP Neuron) model.\n",
        "   - __init__ method initializes the perceptron's weights, bias, and threshold.\n",
        "   - predict method takes input data and calculates the weighted sum of inputs plus bias. If this sum is greater than or equal to the threshold, the perceptron outputs 1, otherwise 0.\n",
        "\n",
        " 4. Create and Use the MCP Neuron:\n",
        "  - Creates an MCP neuron with specific weights, bias, and threshold (chosen to try and implement XOR).\n",
        "  - Iterates through each input in X, makes predictions using the MCP neuron's predict method.\n",
        "   - Prints the input and the predicted output.\n",
        "\n",
        " A single-layer perceptron (like MCP Neuron) cannot perfectly solve the XOR problem because XOR is not linearly separable. This is why the predicted outputs don't correctly represent the XOR truth table.\n",
        "\n",
        " Part 2: XOR Gate Classification with MLP\n",
        "\n",
        "1. Data: The same XOR data from Part 1 is used.\n",
        "\n",
        "2. MLPClassifier:\n",
        "  - An MLP is a type of artificial neural network with one or more hidden layers. It's more powerful than a single-layer perceptron.\n",
        "  - hidden_layer_sizes=(2,): Specifies that the MLP has one hidden layer with 2 neurons.\n",
        " - activation='tanh': The activation function used by the neurons in the hidden layer.\n",
        " - solver='adam': The optimization algorithm used to train the MLP.\n",
        " - max_iter=10000: Maximum number of iterations during training.\n",
        "\n",
        " 3. Fit and Predict:\n",
        "   - mlp.fit(X, y): Trains the MLP to learn the mapping between inputs X and desired outputs y.\n",
        "   - predictions = mlp.predict(X): Uses the trained MLP to predict the output for the input data X.\n",
        "\n"
      ],
      "metadata": {
        "id": "8VAfysGe6gNN"
      }
    },
    {
      "cell_type": "markdown",
      "source": [
        "# Question 2:\n",
        "\n",
        "Sentiment nalaysis using Ann and  for IMDB Movie Review Dataset"
      ],
      "metadata": {
        "id": "V030fqfY2Qpi"
      }
    },
    {
      "cell_type": "code",
      "source": [
        "import pandas as pd\n",
        "import re\n",
        "from sklearn.preprocessing import LabelEncoder\n",
        "from tensorflow.keras.preprocessing.text import Tokenizer\n",
        "from tensorflow.keras.preprocessing.sequence import pad_sequences\n",
        "\n",
        "# Load the dataset\n",
        "df = pd.read_csv('IMDB_Dataset.csv')\n",
        "\n",
        "# Clean the review text\n",
        "def clean_text(text):\n",
        "    text = re.sub(r'<.*?>', '', text)  # Remove HTML tags\n",
        "    text = re.sub(r'[^a-zA-Z]', ' ', text)  # Remove non-alphabet characters\n",
        "    return text.lower()\n",
        "\n",
        "df['review'] = df['review'].apply(clean_text)\n",
        "\n",
        "# Encode the sentiment labels (positive -> 1, negative -> 0)\n",
        "label_encoder = LabelEncoder()\n",
        "df['sentiment'] = label_encoder.fit_transform(df['sentiment'])\n"
      ],
      "metadata": {
        "id": "KKPGPNCDHAEg"
      },
      "execution_count": 1,
      "outputs": []
    },
    {
      "cell_type": "code",
      "source": [
        "# Tokenize and pad the sequences\n",
        "tokenizer = Tokenizer(num_words=10000)\n",
        "tokenizer.fit_on_texts(df['review'])\n",
        "sequences = tokenizer.texts_to_sequences(df['review'])\n",
        "X = pad_sequences(sequences, maxlen=200)  # Pad sequences to length of 200\n",
        "\n",
        "# Split the dataset into training and testing sets\n",
        "from sklearn.model_selection import train_test_split\n",
        "y = df['sentiment']\n",
        "X_train, X_test, y_train, y_test = train_test_split(X, y, test_size=0.2, random_state=42)\n"
      ],
      "metadata": {
        "id": "ilAC3DePHJ1C"
      },
      "execution_count": 2,
      "outputs": []
    },
    {
      "cell_type": "markdown",
      "source": [
        "Designing ANN model"
      ],
      "metadata": {
        "id": "LUS0PHLeJwm7"
      }
    },
    {
      "cell_type": "code",
      "source": [
        "from tensorflow.keras.models import Sequential\n",
        "from tensorflow.keras.layers import Embedding, Dense, Dropout, Flatten, GlobalAveragePooling1D\n",
        "\n",
        "# Define the model architecture\n",
        "model = Sequential()\n",
        "\n",
        "# Embedding layer\n",
        "model.add(Embedding(input_dim=10000, output_dim=128, input_length=200))\n",
        "\n",
        "# Flatten the embedding output or use GlobalAveragePooling1D to reduce dimensionality\n",
        "model.add(GlobalAveragePooling1D())\n",
        "\n",
        "# First hidden layer\n",
        "model.add(Dense(128, activation='relu'))\n",
        "model.add(Dropout(0.5))\n",
        "\n",
        "# Second hidden layer\n",
        "model.add(Dense(64, activation='relu'))\n",
        "model.add(Dropout(0.5))\n",
        "\n",
        "# Output layer for binary classification\n",
        "model.add(Dense(1, activation='sigmoid'))\n",
        "\n",
        "# Compile the model\n",
        "model.compile(optimizer='adam', loss='binary_crossentropy', metrics=['accuracy'])\n",
        "\n",
        "# Summary of the model\n",
        "model.summary()\n"
      ],
      "metadata": {
        "colab": {
          "base_uri": "https://localhost:8080/",
          "height": 404
        },
        "id": "0GFXYdHPHdFW",
        "outputId": "c37e602a-f7d5-47cd-b145-a16a51b58fbf"
      },
      "execution_count": 3,
      "outputs": [
        {
          "output_type": "stream",
          "name": "stderr",
          "text": [
            "/usr/local/lib/python3.10/dist-packages/keras/src/layers/core/embedding.py:90: UserWarning: Argument `input_length` is deprecated. Just remove it.\n",
            "  warnings.warn(\n"
          ]
        },
        {
          "output_type": "display_data",
          "data": {
            "text/plain": [
              "\u001b[1mModel: \"sequential\"\u001b[0m\n"
            ],
            "text/html": [
              "<pre style=\"white-space:pre;overflow-x:auto;line-height:normal;font-family:Menlo,'DejaVu Sans Mono',consolas,'Courier New',monospace\"><span style=\"font-weight: bold\">Model: \"sequential\"</span>\n",
              "</pre>\n"
            ]
          },
          "metadata": {}
        },
        {
          "output_type": "display_data",
          "data": {
            "text/plain": [
              "┏━━━━━━━━━━━━━━━━━━━━━━━━━━━━━━━━━━━━━━┳━━━━━━━━━━━━━━━━━━━━━━━━━━━━━┳━━━━━━━━━━━━━━━━━┓\n",
              "┃\u001b[1m \u001b[0m\u001b[1mLayer (type)                        \u001b[0m\u001b[1m \u001b[0m┃\u001b[1m \u001b[0m\u001b[1mOutput Shape               \u001b[0m\u001b[1m \u001b[0m┃\u001b[1m \u001b[0m\u001b[1m        Param #\u001b[0m\u001b[1m \u001b[0m┃\n",
              "┡━━━━━━━━━━━━━━━━━━━━━━━━━━━━━━━━━━━━━━╇━━━━━━━━━━━━━━━━━━━━━━━━━━━━━╇━━━━━━━━━━━━━━━━━┩\n",
              "│ embedding (\u001b[38;5;33mEmbedding\u001b[0m)                │ ?                           │     \u001b[38;5;34m0\u001b[0m (unbuilt) │\n",
              "├──────────────────────────────────────┼─────────────────────────────┼─────────────────┤\n",
              "│ global_average_pooling1d             │ ?                           │     \u001b[38;5;34m0\u001b[0m (unbuilt) │\n",
              "│ (\u001b[38;5;33mGlobalAveragePooling1D\u001b[0m)             │                             │                 │\n",
              "├──────────────────────────────────────┼─────────────────────────────┼─────────────────┤\n",
              "│ dense (\u001b[38;5;33mDense\u001b[0m)                        │ ?                           │     \u001b[38;5;34m0\u001b[0m (unbuilt) │\n",
              "├──────────────────────────────────────┼─────────────────────────────┼─────────────────┤\n",
              "│ dropout (\u001b[38;5;33mDropout\u001b[0m)                    │ ?                           │     \u001b[38;5;34m0\u001b[0m (unbuilt) │\n",
              "├──────────────────────────────────────┼─────────────────────────────┼─────────────────┤\n",
              "│ dense_1 (\u001b[38;5;33mDense\u001b[0m)                      │ ?                           │     \u001b[38;5;34m0\u001b[0m (unbuilt) │\n",
              "├──────────────────────────────────────┼─────────────────────────────┼─────────────────┤\n",
              "│ dropout_1 (\u001b[38;5;33mDropout\u001b[0m)                  │ ?                           │     \u001b[38;5;34m0\u001b[0m (unbuilt) │\n",
              "├──────────────────────────────────────┼─────────────────────────────┼─────────────────┤\n",
              "│ dense_2 (\u001b[38;5;33mDense\u001b[0m)                      │ ?                           │     \u001b[38;5;34m0\u001b[0m (unbuilt) │\n",
              "└──────────────────────────────────────┴─────────────────────────────┴─────────────────┘\n"
            ],
            "text/html": [
              "<pre style=\"white-space:pre;overflow-x:auto;line-height:normal;font-family:Menlo,'DejaVu Sans Mono',consolas,'Courier New',monospace\">┏━━━━━━━━━━━━━━━━━━━━━━━━━━━━━━━━━━━━━━┳━━━━━━━━━━━━━━━━━━━━━━━━━━━━━┳━━━━━━━━━━━━━━━━━┓\n",
              "┃<span style=\"font-weight: bold\"> Layer (type)                         </span>┃<span style=\"font-weight: bold\"> Output Shape                </span>┃<span style=\"font-weight: bold\">         Param # </span>┃\n",
              "┡━━━━━━━━━━━━━━━━━━━━━━━━━━━━━━━━━━━━━━╇━━━━━━━━━━━━━━━━━━━━━━━━━━━━━╇━━━━━━━━━━━━━━━━━┩\n",
              "│ embedding (<span style=\"color: #0087ff; text-decoration-color: #0087ff\">Embedding</span>)                │ ?                           │     <span style=\"color: #00af00; text-decoration-color: #00af00\">0</span> (unbuilt) │\n",
              "├──────────────────────────────────────┼─────────────────────────────┼─────────────────┤\n",
              "│ global_average_pooling1d             │ ?                           │     <span style=\"color: #00af00; text-decoration-color: #00af00\">0</span> (unbuilt) │\n",
              "│ (<span style=\"color: #0087ff; text-decoration-color: #0087ff\">GlobalAveragePooling1D</span>)             │                             │                 │\n",
              "├──────────────────────────────────────┼─────────────────────────────┼─────────────────┤\n",
              "│ dense (<span style=\"color: #0087ff; text-decoration-color: #0087ff\">Dense</span>)                        │ ?                           │     <span style=\"color: #00af00; text-decoration-color: #00af00\">0</span> (unbuilt) │\n",
              "├──────────────────────────────────────┼─────────────────────────────┼─────────────────┤\n",
              "│ dropout (<span style=\"color: #0087ff; text-decoration-color: #0087ff\">Dropout</span>)                    │ ?                           │     <span style=\"color: #00af00; text-decoration-color: #00af00\">0</span> (unbuilt) │\n",
              "├──────────────────────────────────────┼─────────────────────────────┼─────────────────┤\n",
              "│ dense_1 (<span style=\"color: #0087ff; text-decoration-color: #0087ff\">Dense</span>)                      │ ?                           │     <span style=\"color: #00af00; text-decoration-color: #00af00\">0</span> (unbuilt) │\n",
              "├──────────────────────────────────────┼─────────────────────────────┼─────────────────┤\n",
              "│ dropout_1 (<span style=\"color: #0087ff; text-decoration-color: #0087ff\">Dropout</span>)                  │ ?                           │     <span style=\"color: #00af00; text-decoration-color: #00af00\">0</span> (unbuilt) │\n",
              "├──────────────────────────────────────┼─────────────────────────────┼─────────────────┤\n",
              "│ dense_2 (<span style=\"color: #0087ff; text-decoration-color: #0087ff\">Dense</span>)                      │ ?                           │     <span style=\"color: #00af00; text-decoration-color: #00af00\">0</span> (unbuilt) │\n",
              "└──────────────────────────────────────┴─────────────────────────────┴─────────────────┘\n",
              "</pre>\n"
            ]
          },
          "metadata": {}
        },
        {
          "output_type": "display_data",
          "data": {
            "text/plain": [
              "\u001b[1m Total params: \u001b[0m\u001b[38;5;34m0\u001b[0m (0.00 B)\n"
            ],
            "text/html": [
              "<pre style=\"white-space:pre;overflow-x:auto;line-height:normal;font-family:Menlo,'DejaVu Sans Mono',consolas,'Courier New',monospace\"><span style=\"font-weight: bold\"> Total params: </span><span style=\"color: #00af00; text-decoration-color: #00af00\">0</span> (0.00 B)\n",
              "</pre>\n"
            ]
          },
          "metadata": {}
        },
        {
          "output_type": "display_data",
          "data": {
            "text/plain": [
              "\u001b[1m Trainable params: \u001b[0m\u001b[38;5;34m0\u001b[0m (0.00 B)\n"
            ],
            "text/html": [
              "<pre style=\"white-space:pre;overflow-x:auto;line-height:normal;font-family:Menlo,'DejaVu Sans Mono',consolas,'Courier New',monospace\"><span style=\"font-weight: bold\"> Trainable params: </span><span style=\"color: #00af00; text-decoration-color: #00af00\">0</span> (0.00 B)\n",
              "</pre>\n"
            ]
          },
          "metadata": {}
        },
        {
          "output_type": "display_data",
          "data": {
            "text/plain": [
              "\u001b[1m Non-trainable params: \u001b[0m\u001b[38;5;34m0\u001b[0m (0.00 B)\n"
            ],
            "text/html": [
              "<pre style=\"white-space:pre;overflow-x:auto;line-height:normal;font-family:Menlo,'DejaVu Sans Mono',consolas,'Courier New',monospace\"><span style=\"font-weight: bold\"> Non-trainable params: </span><span style=\"color: #00af00; text-decoration-color: #00af00\">0</span> (0.00 B)\n",
              "</pre>\n"
            ]
          },
          "metadata": {}
        }
      ]
    },
    {
      "cell_type": "code",
      "source": [
        "history = model.fit(X_train, y_train, epochs=10, batch_size=32, validation_split=0.2)\n"
      ],
      "metadata": {
        "colab": {
          "base_uri": "https://localhost:8080/"
        },
        "id": "VEdfcCNQHh1T",
        "outputId": "60c813a5-ca1f-4693-fd60-8767324e1398"
      },
      "execution_count": 4,
      "outputs": [
        {
          "output_type": "stream",
          "name": "stdout",
          "text": [
            "Epoch 1/10\n",
            "\u001b[1m1000/1000\u001b[0m \u001b[32m━━━━━━━━━━━━━━━━━━━━\u001b[0m\u001b[37m\u001b[0m \u001b[1m29s\u001b[0m 27ms/step - accuracy: 0.6935 - loss: 0.5393 - val_accuracy: 0.8621 - val_loss: 0.3137\n",
            "Epoch 2/10\n",
            "\u001b[1m1000/1000\u001b[0m \u001b[32m━━━━━━━━━━━━━━━━━━━━\u001b[0m\u001b[37m\u001b[0m \u001b[1m39s\u001b[0m 25ms/step - accuracy: 0.8909 - loss: 0.2741 - val_accuracy: 0.8648 - val_loss: 0.3441\n",
            "Epoch 3/10\n",
            "\u001b[1m1000/1000\u001b[0m \u001b[32m━━━━━━━━━━━━━━━━━━━━\u001b[0m\u001b[37m\u001b[0m \u001b[1m42s\u001b[0m 26ms/step - accuracy: 0.9140 - loss: 0.2269 - val_accuracy: 0.8740 - val_loss: 0.3050\n",
            "Epoch 4/10\n",
            "\u001b[1m1000/1000\u001b[0m \u001b[32m━━━━━━━━━━━━━━━━━━━━\u001b[0m\u001b[37m\u001b[0m \u001b[1m35s\u001b[0m 20ms/step - accuracy: 0.9208 - loss: 0.2059 - val_accuracy: 0.8781 - val_loss: 0.3043\n",
            "Epoch 5/10\n",
            "\u001b[1m1000/1000\u001b[0m \u001b[32m━━━━━━━━━━━━━━━━━━━━\u001b[0m\u001b[37m\u001b[0m \u001b[1m21s\u001b[0m 21ms/step - accuracy: 0.9302 - loss: 0.1816 - val_accuracy: 0.8756 - val_loss: 0.3316\n",
            "Epoch 6/10\n",
            "\u001b[1m1000/1000\u001b[0m \u001b[32m━━━━━━━━━━━━━━━━━━━━\u001b[0m\u001b[37m\u001b[0m \u001b[1m19s\u001b[0m 19ms/step - accuracy: 0.9377 - loss: 0.1592 - val_accuracy: 0.8650 - val_loss: 0.4087\n",
            "Epoch 7/10\n",
            "\u001b[1m1000/1000\u001b[0m \u001b[32m━━━━━━━━━━━━━━━━━━━━\u001b[0m\u001b[37m\u001b[0m \u001b[1m20s\u001b[0m 19ms/step - accuracy: 0.9411 - loss: 0.1429 - val_accuracy: 0.8733 - val_loss: 0.4197\n",
            "Epoch 8/10\n",
            "\u001b[1m1000/1000\u001b[0m \u001b[32m━━━━━━━━━━━━━━━━━━━━\u001b[0m\u001b[37m\u001b[0m \u001b[1m21s\u001b[0m 20ms/step - accuracy: 0.9429 - loss: 0.1331 - val_accuracy: 0.8560 - val_loss: 0.4629\n",
            "Epoch 9/10\n",
            "\u001b[1m1000/1000\u001b[0m \u001b[32m━━━━━━━━━━━━━━━━━━━━\u001b[0m\u001b[37m\u001b[0m \u001b[1m19s\u001b[0m 18ms/step - accuracy: 0.9458 - loss: 0.1225 - val_accuracy: 0.8397 - val_loss: 0.5348\n",
            "Epoch 10/10\n",
            "\u001b[1m1000/1000\u001b[0m \u001b[32m━━━━━━━━━━━━━━━━━━━━\u001b[0m\u001b[37m\u001b[0m \u001b[1m18s\u001b[0m 18ms/step - accuracy: 0.9479 - loss: 0.1203 - val_accuracy: 0.8601 - val_loss: 0.6095\n"
          ]
        }
      ]
    },
    {
      "cell_type": "code",
      "source": [
        "# Evaluate the model on the test set\n",
        "test_loss, test_acc = model.evaluate(X_test, y_test)\n",
        "\n",
        "print(f\"Test Accuracy: {test_acc}\")\n",
        "print(f\"Test Loss: {test_loss}\")"
      ],
      "metadata": {
        "colab": {
          "base_uri": "https://localhost:8080/"
        },
        "id": "q6bB15o5H8NL",
        "outputId": "793bf950-9e61-4252-ae7f-01f62711166b"
      },
      "execution_count": 5,
      "outputs": [
        {
          "output_type": "stream",
          "name": "stdout",
          "text": [
            "\u001b[1m313/313\u001b[0m \u001b[32m━━━━━━━━━━━━━━━━━━━━\u001b[0m\u001b[37m\u001b[0m \u001b[1m2s\u001b[0m 5ms/step - accuracy: 0.8593 - loss: 0.5798\n",
            "Test Accuracy: 0.8589000105857849\n",
            "Test Loss: 0.5962380170822144\n"
          ]
        }
      ]
    },
    {
      "cell_type": "markdown",
      "source": [
        "Evaluation on Test Data: After training the model, it's evaluated on the test set to determine how well it performs on unseen data.\n",
        "\n",
        "Performance Metrics:\n",
        "\n",
        "Test Accuracy: The accuracy of the model on the test data.\n",
        "\n",
        "Test Loss: The binary cross-entropy loss on the test data."
      ],
      "metadata": {
        "id": "olf2ItHIJtRZ"
      }
    },
    {
      "cell_type": "markdown",
      "source": [
        "Visualizing Training Result:"
      ],
      "metadata": {
        "id": "zEEcqM_YJUiX"
      }
    },
    {
      "cell_type": "code",
      "source": [
        "import matplotlib.pyplot as plt\n",
        "\n",
        "# Plot accuracy\n",
        "plt.plot(history.history['accuracy'], label='Training Accuracy')\n",
        "plt.plot(history.history['val_accuracy'], label='Validation Accuracy')\n",
        "plt.title('Training and Validation Accuracy')\n",
        "plt.xlabel('Epochs')\n",
        "plt.ylabel('Accuracy')\n",
        "plt.legend()\n",
        "plt.show()\n",
        "\n",
        "# Plot loss\n",
        "plt.plot(history.history['loss'], label='Training Loss')\n",
        "plt.plot(history.history['val_loss'], label='Validation Loss')\n",
        "plt.title('Training and Validation Loss')\n",
        "plt.xlabel('Epochs')\n",
        "plt.ylabel('Loss')\n",
        "plt.legend()\n",
        "plt.show()\n"
      ],
      "metadata": {
        "colab": {
          "base_uri": "https://localhost:8080/",
          "height": 927
        },
        "id": "cp33UtYqJSD8",
        "outputId": "59e2f34c-a5b0-4438-edb7-acda4d161f5b"
      },
      "execution_count": 6,
      "outputs": [
        {
          "output_type": "display_data",
          "data": {
            "text/plain": [
              "<Figure size 640x480 with 1 Axes>"
            ],
            "image/png": "[encoded data removed]"
          },
          "metadata": {}
        },
        {
          "output_type": "display_data",
          "data": {
            "text/plain": [
              "<Figure size 640x480 with 1 Axes>"
            ],
            "image/png": "[encoded data removed]"
          },
          "metadata": {}
        }
      ]
    },
    {
      "cell_type": "markdown",
      "source": [
        "Training Accuracy increases steadily across epochs.\n",
        "\n",
        "Validation Accuracy follows a similar trend, indicating that the model is learning without overfitting.\n",
        "\n",
        "The Training and Validation Loss decreases steadily, showing proper convergence during training.\n",
        "\n",
        "Justification for ReLU and Sigmoid Activation\n",
        "\n",
        "ReLU (Rectified Linear Unit): Why ReLU? ReLU is a widely used activation function because it allows the model to learn non-linear relationships. It solves the vanishing gradient problem that older activation functions (like sigmoid or tanh) suffered from.\n",
        "\n",
        "Sigmoid Activation:\n",
        "\n",
        "Sigmoid is used becasue the sigmoid function is ideal for binary classification tasks as it maps the output to a probability range between 0 and 1. In this case, it can be interpreted as the probability of the review being positive.\n",
        "\n",
        "Why Binary Cross-Entropy is Suitable\n",
        "\n",
        "Binary Cross-Entropy Loss:\n",
        "\n",
        "Why Binary Cross-Entropy? This loss function is designed specifically for binary classification problems. It works by comparing the predicted probability to the actual class label (0 or 1), penalizing the model more for confident but wrong predictions.\n",
        "\n",
        "Mathematical Justification: It minimizes the negative log-likelihood, which makes it suitable for models that output probabilities, like this sentiment analysis task."
      ],
      "metadata": {
        "id": "Oqk1tSZ7JaY7"
      }
    }
  ]
}